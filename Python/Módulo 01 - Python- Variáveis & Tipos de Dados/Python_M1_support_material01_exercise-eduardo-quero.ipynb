{
  "cells": [
    {
      "cell_type": "markdown",
      "metadata": {
        "id": "KJqp9AANOCtf"
      },
      "source": [
        "[![ebac_logo-data_science.png](https://raw.githubusercontent.com/EduardoQuero/Profissao-Cientista-de-Dados/main/Cientista%20de%20Dados/ebac-course-utils/media/logo/ebac_logo-data_science.png)](https://github.com/EduardoQuero/Profissao-Cientista-de-Dados/)\n",
        "<!-- <img src=\"https://raw.githubusercontent.com/EduardoQuero/Profissao-Cientista-de-Dados/main/Cientista%20de%20Dados/ebac-course-utils/media/logo/ebac_logo-data_science.png\" alt=\"ebac_logo-data_science\"> -->\n",
        "\n",
        "---\n",
        "\n",
        "# **Módulo** | Python: Variáveis & Tipos de Dados\n",
        "Caderno de **Exercícios**<br> \n",
        "Professor [André Perez](https://www.linkedin.com/in/andremarcosperez/)\n",
        "\n",
        "Aluno [Eduardo Quero](https://www.linkedin.com/in/eduardo-quero/)<br>\n",
        "Data: 29 de Julho de 2023.\n",
        "\n",
        "---"
      ]
    },
    {
      "cell_type": "markdown",
      "metadata": {
        "id": "d9jDtUbDOE1-"
      },
      "source": [
        "# **Tópicos**\n",
        "\n",
        "<ol type=\"1\">\n",
        "  <li>Introdução ao Google Colab;</li>\n",
        "  <li>Variáveis;</li>\n",
        "  <li>Números;</li>\n",
        "  <li><i>Strings;</i></li>\n",
        "  <li>Boleanos.</li>\n",
        "</ol>"
      ]
    },
    {
      "cell_type": "markdown",
      "metadata": {
        "id": "SmoHgt-lwkpD"
      },
      "source": [
        "---"
      ]
    },
    {
      "cell_type": "markdown",
      "metadata": {
        "id": "GABI6OW8OfQ2"
      },
      "source": [
        "# **Exercícios**"
      ]
    },
    {
      "cell_type": "markdown",
      "metadata": {
        "id": "muD1vxozykSC"
      },
      "source": [
        "## 1\\. Google Colab"
      ]
    },
    {
      "cell_type": "markdown",
      "metadata": {
        "id": "ahrFfCuBxJKs"
      },
      "source": [
        "Crie uma célula de código que escreva o texto \"Olá mundo!\", utilize o comando `print`."
      ]
    },
    {
      "cell_type": "code",
      "execution_count": 1,
      "metadata": {
        "colab": {
          "base_uri": "https://localhost:8080/"
        },
        "id": "MmnJfGly6-7p",
        "outputId": "cfc56828-71c7-4ea4-827b-adeb6604ca3a"
      },
      "outputs": [
        {
          "name": "stdout",
          "output_type": "stream",
          "text": [
            "Olá mundo!\n"
          ]
        }
      ],
      "source": [
        "print(\"Olá mundo!\")"
      ]
    },
    {
      "cell_type": "markdown",
      "metadata": {
        "id": "KI9zQRT2xa7m"
      },
      "source": [
        "Crie uma célua de texto e adicione uma imagem."
      ]
    },
    {
      "cell_type": "markdown",
      "metadata": {
        "id": "zMN1Q3jdwoJm"
      },
      "source": [
        "---\n",
        "\n",
        "![python-logo.png](https://www.python.org/static/img/python-logo.png)\n",
        "\n",
        "**Python** is a *programming language* that lets you work more quickly and integrate your systems more effectively.\n",
        "\n",
        "---"
      ]
    },
    {
      "cell_type": "markdown",
      "metadata": {
        "id": "tFYOPLS3xiwe"
      },
      "source": [
        "## 2\\. Números"
      ]
    },
    {
      "cell_type": "markdown",
      "metadata": {
        "id": "O2G9gt7tx2c-"
      },
      "source": [
        "Preencha as células de código para preencher os valores de (A), (B) e (C) na tabela de ticket médio abaixo:\n",
        "\n",
        "<br>\n",
        "\n",
        "| Dia   | Valor Total Vendas | Qtd Total Vendas | Ticket Medio |\n",
        "|-------|--------------------|------------------|--------------|\n",
        "| 19/01 | (A)                | 3                | 320.52       |\n",
        "| 20/01 | 834.47             | (B)              | 119.21       |\n",
        "| 23/01 | 15378.12           | 5                | (C)          |"
      ]
    },
    {
      "cell_type": "code",
      "execution_count": 2,
      "metadata": {
        "colab": {
          "base_uri": "https://localhost:8080/"
        },
        "id": "nsrKH9EizNRD",
        "outputId": "ecddb330-671e-4e6a-d8b4-4b21c8ffd933"
      },
      "outputs": [
        {
          "name": "stdout",
          "output_type": "stream",
          "text": [
            "961.56\n"
          ]
        }
      ],
      "source": [
        "# (A)\n",
        "\n",
        "qtd_total_vendas_19_01 = 3\n",
        "ticket_medio_19_01 = 320.52\n",
        "\n",
        "valor_total_vendas_19_01 = qtd_total_vendas_19_01 * ticket_medio_19_01\n",
        "a = valor_total_vendas_19_01\n",
        "\n",
        "print(a)"
      ]
    },
    {
      "cell_type": "code",
      "execution_count": 3,
      "metadata": {
        "colab": {
          "base_uri": "https://localhost:8080/"
        },
        "id": "QQ1GBGHJzMmi",
        "outputId": "8748249e-690b-4bad-81b5-0823dd4562c9"
      },
      "outputs": [
        {
          "name": "stdout",
          "output_type": "stream",
          "text": [
            "7\n"
          ]
        }
      ],
      "source": [
        "# (B)\n",
        "\n",
        "valor_total_vendas_20_01 = 834.47\n",
        "ticket_medio_20_01 = 119.21\n",
        "\n",
        "qtd_total_vendas_20_01 = valor_total_vendas_20_01 / ticket_medio_20_01\n",
        "b = qtd_total_vendas_20_01\n",
        "\n",
        "print(int(b))"
      ]
    },
    {
      "cell_type": "code",
      "execution_count": 4,
      "metadata": {
        "colab": {
          "base_uri": "https://localhost:8080/"
        },
        "id": "W-li0nSMzKNa",
        "outputId": "e7004f61-2916-447a-fca4-70608a256e11"
      },
      "outputs": [
        {
          "name": "stdout",
          "output_type": "stream",
          "text": [
            "3075.6240000000003\n"
          ]
        }
      ],
      "source": [
        "# (C)\n",
        "\n",
        "valor_total_vendas_23_01 = 15378.12\n",
        "qtd_total_vendas_23_01 = 5\n",
        "\n",
        "ticket_medio_23_01 = valor_total_vendas_23_01 / qtd_total_vendas_23_01\n",
        "c = ticket_medio_23_01\n",
        "\n",
        "print(c)\n"
      ]
    },
    {
      "cell_type": "markdown",
      "metadata": {
        "id": "3eoP-Vj9yzh8"
      },
      "source": [
        "---"
      ]
    },
    {
      "cell_type": "markdown",
      "metadata": {
        "id": "yUJ6kdony6Pr"
      },
      "source": [
        "## 3\\. Strings"
      ]
    },
    {
      "cell_type": "markdown",
      "metadata": {
        "id": "KDuZpg-5zCvO"
      },
      "source": [
        "Aplique três métodos distintos na *string* abaixo, você pode conferir alguns métodos neste [link](https://www.w3schools.com/python/python_ref_string.asp):"
      ]
    },
    {
      "cell_type": "code",
      "execution_count": 5,
      "metadata": {
        "id": "k9zbyf7BzjKj"
      },
      "outputs": [],
      "source": [
        "cancao = 'Roda mundo, roda gigante, roda moinho, roda pião.'"
      ]
    },
    {
      "cell_type": "code",
      "execution_count": 6,
      "metadata": {
        "colab": {
          "base_uri": "https://localhost:8080/"
        },
        "id": "AMdBdqgZ-jJp",
        "outputId": "8e842473-2875-4b74-bf6d-a5e3dd12e10f"
      },
      "outputs": [
        {
          "name": "stdout",
          "output_type": "stream",
          "text": [
            "RODA MUNDO, RODA GIGANTE, RODA MOINHO, RODA PIÃO.\n",
            "\n",
            "Quantidade de vezes que a palavra \"RODA\" aparece na string: 4.\n",
            "Total de caracteres na string: 49.\n",
            "['RODA', 'MUNDO,', 'RODA', 'GIGANTE,', 'RODA', 'MOINHO,', 'RODA', 'PIÃO.']\n"
          ]
        }
      ],
      "source": [
        "# Método extra para padronização:\n",
        "cancao = cancao.upper()\n",
        "\n",
        "print(cancao)\n",
        "print()\n",
        "\n",
        "# 1º método:\n",
        "print(f'Quantidade de vezes que a palavra \"RODA\" aparece na string: {cancao.count(\"RODA\")}.')\n",
        "# 2º método:\n",
        "print(f'Total de caracteres na string: {len(cancao)}.')\n",
        "# 3º método:\n",
        "print(cancao.split())"
      ]
    },
    {
      "cell_type": "markdown",
      "metadata": {
        "id": "guZMHXVq0FnC"
      },
      "source": [
        "Extraia da string abaixo o valor da taxa **selic** na variável `selic` e o valor do **ano** na variavel `ano`. Imprima os valores na tela."
      ]
    },
    {
      "cell_type": "code",
      "execution_count": 7,
      "metadata": {
        "id": "cbx_P4IQ0agK"
      },
      "outputs": [],
      "source": [
        "noticia = 'Selic vai a 2,75% e supera expectativas; é a primeira alta em 6 anos.'"
      ]
    },
    {
      "cell_type": "code",
      "execution_count": 8,
      "metadata": {
        "colab": {
          "base_uri": "https://localhost:8080/"
        },
        "id": "CalPMPIIBg7P",
        "outputId": "52eca551-337d-4433-844c-e96abb612ae9"
      },
      "outputs": [
        {
          "name": "stdout",
          "output_type": "stream",
          "text": [
            "Valor da taxa selic: 2,75%.\n",
            "Valor do ano: 6.\n"
          ]
        }
      ],
      "source": [
        "posicao_selic = noticia.find(\"%\")\n",
        "selic = (noticia[posicao_selic - 4 : posicao_selic])\n",
        "print(f'Valor da taxa selic: {selic}%.')\n",
        "\n",
        "posicao_ano = noticia.find(\"ano\")\n",
        "ano = noticia[posicao_ano - 2 : posicao_ano - 1]\n",
        "print(f'Valor do ano: {ano}.')"
      ]
    },
    {
      "cell_type": "markdown",
      "metadata": {
        "id": "wWzbu-OC0z3L"
      },
      "source": [
        "---"
      ]
    },
    {
      "cell_type": "markdown",
      "metadata": {
        "id": "no8w_Ati01xP"
      },
      "source": [
        "## 4\\. Booleanos"
      ]
    },
    {
      "cell_type": "markdown",
      "metadata": {
        "id": "D_0tC3SC099N"
      },
      "source": [
        "Utilize a tabela da verdade para responder: qual o valor da variável x?"
      ]
    },
    {
      "cell_type": "code",
      "execution_count": 9,
      "metadata": {
        "id": "XwIEbxf91SpU"
      },
      "outputs": [],
      "source": [
        "a = False\n",
        "b = True\n",
        "\n",
        "x = not a & b"
      ]
    },
    {
      "cell_type": "code",
      "execution_count": 10,
      "metadata": {
        "colab": {
          "base_uri": "https://localhost:8080/"
        },
        "id": "UUZkPGctD5ei",
        "outputId": "d0a4172e-3634-453e-a3b8-28291298c32c"
      },
      "outputs": [
        {
          "name": "stdout",
          "output_type": "stream",
          "text": [
            "Se not a = True e b = True, então x = True.\n"
          ]
        }
      ],
      "source": [
        "print(f'Se not a = True e b = True, então x = {x}.')"
      ]
    }
  ],
  "metadata": {
    "colab": {
      "provenance": [],
      "toc_visible": true
    },
    "kernelspec": {
      "display_name": "Python 3",
      "name": "python3"
    }
  },
  "nbformat": 4,
  "nbformat_minor": 0
}
